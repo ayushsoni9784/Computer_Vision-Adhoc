{
 "cells": [
  {
   "cell_type": "code",
   "execution_count": null,
   "metadata": {},
   "outputs": [],
   "source": [
    "import  cv2\n",
    "import numpy as np\n",
    "face_cascade = cv2.CascadeClassifier('face.xml')\n",
    "\n",
    "\n",
    "\n",
    "cap=cv2.VideoCapture(0)\n",
    "while cap.isOpened() :\n",
    "    status,frame=cap.read()  # continue image taker\n",
    "    faces = face_cascade.detectMultiScale(frame,1.15,5)  \n",
    "    for  (x,y,w,h) in faces:\n",
    "        # Only face\n",
    "        cv2.rectangle(frame,(x,y),(x+h,y+w),(0,0,225),2)\n",
    "    cv2.imshow(\"window 1\",frame)\n",
    "    if cv2.waitKey(10) & 0xff ==ord('q'):\n",
    "        break\n",
    "\n",
    "cv2.destroyAllWindows()\n",
    "cap.release()"
   ]
  }
 ],
 "metadata": {
  "kernelspec": {
   "display_name": "Python 3",
   "language": "python",
   "name": "python3"
  },
  "language_info": {
   "codemirror_mode": {
    "name": "ipython",
    "version": 3
   },
   "file_extension": ".py",
   "mimetype": "text/x-python",
   "name": "python",
   "nbconvert_exporter": "python",
   "pygments_lexer": "ipython3",
   "version": "3.6.8"
  }
 },
 "nbformat": 4,
 "nbformat_minor": 2
}
